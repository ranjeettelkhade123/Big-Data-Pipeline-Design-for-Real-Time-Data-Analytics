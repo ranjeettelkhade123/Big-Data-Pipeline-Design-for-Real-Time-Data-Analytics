{
 "cells": [
  {
   "cell_type": "code",
   "execution_count": 1,
   "id": "97cf3bbc-a567-40c9-b308-4389fb1e9c1a",
   "metadata": {},
   "outputs": [],
   "source": [
    "# Aim : To perform and analysis of ANOVA parametric test."
   ]
  },
  {
   "cell_type": "code",
   "execution_count": 2,
   "id": "020919ce-fa58-492a-874d-e05441a98e6c",
   "metadata": {},
   "outputs": [],
   "source": [
    "#Name : Ranjeet Vijayrao Telkhade"
   ]
  },
  {
   "cell_type": "code",
   "execution_count": 3,
   "id": "1d0f9cd2-202b-4c73-a785-13e5fefb17be",
   "metadata": {},
   "outputs": [],
   "source": [
    "ages=[10,20,35,50,28,40,55,18,16,55,30,25,43,18,30,28,14,24,16,17,32,35,26,27,65,18,43,23,21,20,19,70,80,81,82,83,84,85,86,87,89,88,90,91,92,93,94,95,96,97,98,99,100,74,79,68]"
   ]
  },
  {
   "cell_type": "code",
   "execution_count": 4,
   "id": "f35e09a6-bd76-48b3-a959-36d025763573",
   "metadata": {},
   "outputs": [
    {
     "data": {
      "text/plain": [
       "56"
      ]
     },
     "execution_count": 4,
     "metadata": {},
     "output_type": "execute_result"
    }
   ],
   "source": [
    "len(ages)"
   ]
  },
  {
   "cell_type": "code",
   "execution_count": 5,
   "id": "7069eb3a-77f9-4b38-beeb-a5502bb459e6",
   "metadata": {},
   "outputs": [],
   "source": [
    "import numpy as np"
   ]
  },
  {
   "cell_type": "code",
   "execution_count": 6,
   "id": "036725ca-faa3-419f-acf9-0adb2af5d8a3",
   "metadata": {},
   "outputs": [],
   "source": [
    "sample_size=10\n",
    "age_sample=np.random.choice(ages,sample_size)"
   ]
  },
  {
   "cell_type": "code",
   "execution_count": 7,
   "id": "29ff7516-b66c-42e2-bed2-95d2dfe58436",
   "metadata": {},
   "outputs": [],
   "source": [
    "# Python program to implement One-Way f-test\n",
    "# Importing the required libraries\n",
    "import scipy.stats\n",
    "import numpy as np"
   ]
  },
  {
   "cell_type": "code",
   "execution_count": 8,
   "id": "fe24e128-a4bc-4d96-974e-ad8dd0e1b898",
   "metadata": {},
   "outputs": [],
   "source": [
    "# Creating sample data\n",
    "data1 = [0.0842, 0.0368, 0.0847, 0.0935, 0.0376, 0.0963, 0.0684,\n",
    "0.0758, 0.0854, 0.0855]\n",
    "data2 = [0.0785, 0.0845, 0.0758, 0.0853, 0.0946, 0.0785, 0.0853,\n",
    "0.0685]\n",
    "data3 = [0.0864, 0.2522, 0.0894, 0.2724, 0.0853, 0.1367, 0.853]"
   ]
  },
  {
   "cell_type": "code",
   "execution_count": 9,
   "id": "4f56b4d3-15aa-471c-83c5-ae3d661cc41d",
   "metadata": {},
   "outputs": [
    {
     "name": "stdout",
     "output_type": "stream",
     "text": [
      "p-value is:  0.04043792126789144\n"
     ]
    }
   ],
   "source": [
    "# Performing the F-Test\n",
    "f_test, p_val = scipy.stats.f_oneway(data1, data2, data3)\n",
    "print(\"p-value is: \", p_val)"
   ]
  },
  {
   "cell_type": "code",
   "execution_count": 10,
   "id": "7d3b9048-e098-4fac-a9f8-64e42736cfa7",
   "metadata": {},
   "outputs": [
    {
     "name": "stdout",
     "output_type": "stream",
     "text": [
      " We can reject the null hypothesis\n"
     ]
    }
   ],
   "source": [
    "# taking the threshold value as 0.05 or 5%\n",
    "if p_val < 0.05:\n",
    "    print(\" We can reject the null hypothesis\")\n",
    "else:\n",
    "    print(\"We can accept the null hypothesis\")"
   ]
  },
  {
   "cell_type": "code",
   "execution_count": 11,
   "id": "8ffc1551-85ae-4cff-b36c-ce4898b87201",
   "metadata": {},
   "outputs": [],
   "source": [
    "variance1 = np.var(data1)"
   ]
  },
  {
   "cell_type": "code",
   "execution_count": 12,
   "id": "623a1d87-b7b2-4f00-b432-839609c977b3",
   "metadata": {},
   "outputs": [
    {
     "name": "stdout",
     "output_type": "stream",
     "text": [
      "0.00040949560000000005\n"
     ]
    }
   ],
   "source": [
    "print(variance1)"
   ]
  },
  {
   "cell_type": "code",
   "execution_count": 13,
   "id": "a673ad51-67a4-4cd5-8ef4-a1f4291960db",
   "metadata": {},
   "outputs": [],
   "source": [
    "variance2 = np.var(data2)"
   ]
  },
  {
   "cell_type": "code",
   "execution_count": 14,
   "id": "e21db6ec-3d11-40a2-94df-8640ac94c990",
   "metadata": {},
   "outputs": [
    {
     "name": "stdout",
     "output_type": "stream",
     "text": [
      "5.3606874999999995e-05\n"
     ]
    }
   ],
   "source": [
    "print(variance2)"
   ]
  },
  {
   "cell_type": "code",
   "execution_count": 15,
   "id": "85bcac80-a39d-4d75-b121-1c49e41c917c",
   "metadata": {},
   "outputs": [
    {
     "name": "stdout",
     "output_type": "stream",
     "text": [
      "0.06522053346938775\n"
     ]
    }
   ],
   "source": [
    "variance3 = np.var(data3)\n",
    "print(variance3)"
   ]
  },
  {
   "cell_type": "code",
   "execution_count": null,
   "id": "cf70339d-5d34-4f77-bb06-92e571316145",
   "metadata": {},
   "outputs": [],
   "source": []
  }
 ],
 "metadata": {
  "kernelspec": {
   "display_name": "Python 3 (ipykernel)",
   "language": "python",
   "name": "python3"
  },
  "language_info": {
   "codemirror_mode": {
    "name": "ipython",
    "version": 3
   },
   "file_extension": ".py",
   "mimetype": "text/x-python",
   "name": "python",
   "nbconvert_exporter": "python",
   "pygments_lexer": "ipython3",
   "version": "3.12.4"
  }
 },
 "nbformat": 4,
 "nbformat_minor": 5
}
