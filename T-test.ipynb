{
 "cells": [
  {
   "cell_type": "code",
   "execution_count": null,
   "id": "05a31d6f-cc7b-46c8-9a0b-14e68b0f1336",
   "metadata": {},
   "outputs": [],
   "source": [
    "#To perform and analysis of T Test parametric Test."
   ]
  },
  {
   "cell_type": "code",
   "execution_count": null,
   "id": "ab591171-f3bc-4e54-a45f-6344162533e5",
   "metadata": {},
   "outputs": [],
   "source": [
    "#Name : Ranjeet Vijayrao Telkhade"
   ]
  },
  {
   "cell_type": "code",
   "execution_count": 3,
   "id": "734c585f-37b6-477d-8a76-d5e4ebe5a22a",
   "metadata": {},
   "outputs": [],
   "source": [
    "ages=[10,20,35,50,28,40,55,18,16,55,30,25,43,18,30,28,14,24,16,17,32,35,26,27,65,18,43,23,21,20,19,70,40,54]"
   ]
  },
  {
   "cell_type": "code",
   "execution_count": 4,
   "id": "8d9b21dc-064a-44c3-a6c1-face461eb2b9",
   "metadata": {},
   "outputs": [
    {
     "data": {
      "text/plain": [
       "34"
      ]
     },
     "execution_count": 4,
     "metadata": {},
     "output_type": "execute_result"
    }
   ],
   "source": [
    "len(ages)"
   ]
  },
  {
   "cell_type": "code",
   "execution_count": 6,
   "id": "74c4138f-5cf7-4e56-b6e4-0da397f8ae3e",
   "metadata": {},
   "outputs": [
    {
     "data": {
      "text/plain": [
       "list"
      ]
     },
     "execution_count": 6,
     "metadata": {},
     "output_type": "execute_result"
    }
   ],
   "source": [
    "type(ages)"
   ]
  },
  {
   "cell_type": "code",
   "execution_count": 5,
   "id": "a48fb0ad-5d2d-44bb-994c-60f0beec9d96",
   "metadata": {},
   "outputs": [
    {
     "name": "stdout",
     "output_type": "stream",
     "text": [
      "31.323529411764707\n"
     ]
    }
   ],
   "source": [
    "import numpy as np\n",
    "ages_mean=np.mean(ages)\n",
    "print(ages_mean)"
   ]
  },
  {
   "cell_type": "code",
   "execution_count": 7,
   "id": "1db8e62e-6252-4d78-a203-e9e2f120c309",
   "metadata": {},
   "outputs": [],
   "source": [
    "sample_size=10\n",
    "age_sample=np.random.choice(ages,sample_size)"
   ]
  },
  {
   "cell_type": "code",
   "execution_count": 8,
   "id": "ee0e0a23-50fe-4720-8e52-5d7170708540",
   "metadata": {},
   "outputs": [
    {
     "data": {
      "text/plain": [
       "array([40, 54, 35, 25, 24, 54, 70, 14, 26, 35])"
      ]
     },
     "execution_count": 8,
     "metadata": {},
     "output_type": "execute_result"
    }
   ],
   "source": [
    "age_sample"
   ]
  },
  {
   "cell_type": "code",
   "execution_count": 9,
   "id": "7d351526-3395-4c1e-b51e-8cb2b4cfbb34",
   "metadata": {},
   "outputs": [
    {
     "data": {
      "text/plain": [
       "array([40, 54, 35, 25, 24, 54, 70, 14, 26, 35])"
      ]
     },
     "execution_count": 9,
     "metadata": {},
     "output_type": "execute_result"
    }
   ],
   "source": [
    "age_sample\n"
   ]
  },
  {
   "cell_type": "code",
   "execution_count": 10,
   "id": "1de85612-b9c2-4d47-9cad-422d21b5f794",
   "metadata": {},
   "outputs": [],
   "source": [
    "from scipy.stats import ttest_1samp"
   ]
  },
  {
   "cell_type": "code",
   "execution_count": 11,
   "id": "8e344416-230a-4351-83e1-24e01d1bd938",
   "metadata": {},
   "outputs": [],
   "source": [
    "ttest,p_value=ttest_1samp(age_sample,30)"
   ]
  },
  {
   "cell_type": "code",
   "execution_count": 12,
   "id": "0781e4eb-41be-491a-ae6d-91ff49bfcc0b",
   "metadata": {},
   "outputs": [
    {
     "name": "stdout",
     "output_type": "stream",
     "text": [
      "0.18898454403410217\n"
     ]
    }
   ],
   "source": [
    "print(p_value)"
   ]
  },
  {
   "cell_type": "code",
   "execution_count": 13,
   "id": "59f7b678-2125-48b8-b726-7032ee60c1c5",
   "metadata": {},
   "outputs": [
    {
     "name": "stdout",
     "output_type": "stream",
     "text": [
      "We are accepting null hypothesis\n"
     ]
    }
   ],
   "source": [
    "if p_value < 0.05:\n",
    "    print(\"We are rejecting null hypothesis\")\n",
    "else:\n",
    "    print(\"We are accepting null hypothesis\")"
   ]
  },
  {
   "cell_type": "code",
   "execution_count": null,
   "id": "2d3631e2-ea09-4f68-b572-6291c94560b5",
   "metadata": {},
   "outputs": [],
   "source": []
  }
 ],
 "metadata": {
  "kernelspec": {
   "display_name": "Python 3 (ipykernel)",
   "language": "python",
   "name": "python3"
  },
  "language_info": {
   "codemirror_mode": {
    "name": "ipython",
    "version": 3
   },
   "file_extension": ".py",
   "mimetype": "text/x-python",
   "name": "python",
   "nbconvert_exporter": "python",
   "pygments_lexer": "ipython3",
   "version": "3.12.4"
  }
 },
 "nbformat": 4,
 "nbformat_minor": 5
}
