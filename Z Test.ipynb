{
 "cells": [
  {
   "cell_type": "code",
   "execution_count": 1,
   "id": "b6e7c46d-1da5-473e-a0d5-7cf46ba0a179",
   "metadata": {},
   "outputs": [],
   "source": [
    "#To perform and analysis of Z Test parametric Test."
   ]
  },
  {
   "cell_type": "code",
   "execution_count": 2,
   "id": "f9ad4270-ca96-490f-8810-0089fd2a807e",
   "metadata": {},
   "outputs": [],
   "source": [
    "#Name : Ranjeet Vijayrao Telkhade"
   ]
  },
  {
   "cell_type": "code",
   "execution_count": 3,
   "id": "1f7f5d34-19b9-4a17-8980-6655d9fcef63",
   "metadata": {},
   "outputs": [],
   "source": [
    "ages=[10,20,35,50,28,40,55,18,16,55,30,25,43,18,30,28,14,24,16,17,32,35,26,27,65,18,43,23,21,20,19,70]"
   ]
  },
  {
   "cell_type": "code",
   "execution_count": 4,
   "id": "73a15111-c2e5-446b-8f84-a47397d1cdd9",
   "metadata": {},
   "outputs": [
    {
     "data": {
      "text/plain": [
       "32"
      ]
     },
     "execution_count": 4,
     "metadata": {},
     "output_type": "execute_result"
    }
   ],
   "source": [
    "len(ages)"
   ]
  },
  {
   "cell_type": "code",
   "execution_count": 5,
   "id": "94819072-3c11-4877-b96f-26b00367fef0",
   "metadata": {},
   "outputs": [],
   "source": [
    "import numpy as np\n"
   ]
  },
  {
   "cell_type": "code",
   "execution_count": 6,
   "id": "1a3375d0-1753-431d-a82d-9de54de4f71e",
   "metadata": {},
   "outputs": [
    {
     "name": "stdout",
     "output_type": "stream",
     "text": [
      "30.34375\n"
     ]
    }
   ],
   "source": [
    "ages_mean=np.mean(ages)\n",
    "print(ages_mean)"
   ]
  },
  {
   "cell_type": "code",
   "execution_count": 7,
   "id": "044bfda7-e2d0-4e22-93ad-fa9e9a4c1720",
   "metadata": {},
   "outputs": [],
   "source": [
    "## Lets take sample\n",
    "\n",
    "sample_size=31\n",
    "age_sample=np.random.choice(ages,sample_size)"
   ]
  },
  {
   "cell_type": "code",
   "execution_count": 8,
   "id": "36ecb6b1-894d-4cd4-9a2f-5b2d77c37578",
   "metadata": {},
   "outputs": [
    {
     "data": {
      "text/plain": [
       "array([18, 25, 43, 43, 70, 50, 16, 35, 55, 18, 40, 65, 30, 65, 23, 35, 20,\n",
       "       27, 70, 65, 55, 40, 55, 16, 24, 16, 10, 18, 23, 16, 30])"
      ]
     },
     "execution_count": 8,
     "metadata": {},
     "output_type": "execute_result"
    }
   ],
   "source": [
    "age_sample"
   ]
  },
  {
   "cell_type": "code",
   "execution_count": 9,
   "id": "d86f0d06-e9c9-44e5-b94f-e6d72953532f",
   "metadata": {},
   "outputs": [],
   "source": [
    "from statsmodels.stats import weightstats as stests"
   ]
  },
  {
   "cell_type": "code",
   "execution_count": 10,
   "id": "9cbfdd52-f5e5-4e9f-920b-535608cdca35",
   "metadata": {},
   "outputs": [],
   "source": [
    "# Perform one-sample z-test\n",
    "ztest, p_value = stests.ztest(age_sample)\n"
   ]
  },
  {
   "cell_type": "code",
   "execution_count": 11,
   "id": "9b281b73-2edc-4229-856f-f12547f37682",
   "metadata": {},
   "outputs": [
    {
     "name": "stdout",
     "output_type": "stream",
     "text": [
      "ztest 10.710883036414884\n",
      "P-value: 9.04944766522181e-27\n"
     ]
    }
   ],
   "source": [
    "# Print the results\n",
    "print(\"ztest\", ztest)\n",
    "print(\"P-value:\", p_value)\n"
   ]
  },
  {
   "cell_type": "code",
   "execution_count": 12,
   "id": "6843a120-fcab-4e99-baf2-b1c6b44be97b",
   "metadata": {},
   "outputs": [
    {
     "name": "stdout",
     "output_type": "stream",
     "text": [
      " we are rejecting null hypothesis\n"
     ]
    }
   ],
   "source": [
    "if p_value < 0.05:    # alpha value is 0.05 or 5%    (Level of significance)\n",
    "    print(\" we are rejecting null hypothesis\")\n",
    "else:\n",
    "    print(\"we are accepting null hypothesis\")"
   ]
  },
  {
   "cell_type": "code",
   "execution_count": null,
   "id": "470a187e-3c26-40a8-9a14-eb89663704b6",
   "metadata": {},
   "outputs": [],
   "source": []
  }
 ],
 "metadata": {
  "kernelspec": {
   "display_name": "Python 3 (ipykernel)",
   "language": "python",
   "name": "python3"
  },
  "language_info": {
   "codemirror_mode": {
    "name": "ipython",
    "version": 3
   },
   "file_extension": ".py",
   "mimetype": "text/x-python",
   "name": "python",
   "nbconvert_exporter": "python",
   "pygments_lexer": "ipython3",
   "version": "3.12.4"
  }
 },
 "nbformat": 4,
 "nbformat_minor": 5
}
